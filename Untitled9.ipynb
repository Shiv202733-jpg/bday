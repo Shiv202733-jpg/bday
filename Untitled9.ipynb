{
  "nbformat": 4,
  "nbformat_minor": 0,
  "metadata": {
    "colab": {
      "provenance": [],
      "authorship_tag": "ABX9TyMPDg9lbUCgSfOzw2hXMoUj",
      "include_colab_link": true
    },
    "kernelspec": {
      "name": "python3",
      "display_name": "Python 3"
    },
    "language_info": {
      "name": "python"
    }
  },
  "cells": [
    {
      "cell_type": "markdown",
      "metadata": {
        "id": "view-in-github",
        "colab_type": "text"
      },
      "source": [
        "<a href=\"https://colab.research.google.com/github/Shiv202733-jpg/bday/blob/main/Untitled9.ipynb\" target=\"_parent\"><img src=\"https://colab.research.google.com/assets/colab-badge.svg\" alt=\"Open In Colab\"/></a>"
      ]
    },
    {
      "cell_type": "code",
      "execution_count": null,
      "metadata": {
        "id": "lUf4Wefc3uOg"
      },
      "outputs": [],
      "source": [
        "#wap to enter salary of employeee if slary less than 10k then employee get an extra 2% bonus on salary calculate the bonus that has to be given to the employee and display the salary that employee will get\n",
        "#5% of the bomus to males and 10% to females\n",
        "print(\"enter the gender\")\n",
        "a=input()\n",
        "print(\"enter the salary\")\n",
        "b=float(input())\n",
        "if a =='male':\n",
        "    bonus=(5*b)/100\n",
        "else:\n",
        "  bonus = (10*b)/100\n",
        "if b < 10000:\n",
        "  extra=(2*b)/100\n",
        "  total = bonus + extra + b\n",
        "  print(\"total =\" + str(total))\n",
        "else:\n",
        "  print(\"no bonus\")\n",
        "  total = bonus + b\n",
        "  print(\"total =\" + str(total))"
      ]
    },
    {
      "cell_type": "code",
      "source": [
        "def check_character(character):\n",
        "    if character.isdigit():\n",
        "        print(f\"The character '{character}' is a digit.\")\n",
        "    elif character.isalpha():\n",
        "        print(f\"The character '{character}' is an alphabet letter.\")\n",
        "    else:\n",
        "        print(f\"The character '{character}' is a special character.\")\n",
        "\n",
        "# Input from user\n",
        "char = input(\"Enter a character: \")\n",
        "\n",
        "check_character(char)\n"
      ],
      "metadata": {
        "id": "sprOas1c4RHR"
      },
      "execution_count": null,
      "outputs": []
    },
    {
      "cell_type": "code",
      "source": [
        "# Using for loop\n",
        "total = 0\n",
        "for i in range(1, 11):\n",
        "    total += i\n",
        "\n",
        "average = total / 10\n",
        "print(f\"Sum of the first 10 numbers: {total}\")\n",
        "print(f\"Average of the first 10 numbers: {average}\")\n",
        "# Using while loop\n",
        "total = 0\n",
        "i = 1\n",
        "while i <= 10:\n",
        "    total += i\n",
        "    i += 1\n",
        "\n",
        "average = total / 10\n",
        "print(f\"Sum of the first 10 numbers: {total}\")\n",
        "print(f\"Average of the first 10 numbers: {average}\")\n"
      ],
      "metadata": {
        "id": "Aqz2lQD44bnZ"
      },
      "execution_count": null,
      "outputs": []
    },
    {
      "cell_type": "code",
      "source": [
        "# Define functions for each operation\n",
        "def add(x, y):\n",
        "    return x + y\n",
        "\n",
        "def subtract(x, y):\n",
        "    return x - y\n",
        "\n",
        "def multiply(x, y):\n",
        "    return x * y\n",
        "\n",
        "def divide(x, y):\n",
        "    if y == 0:\n",
        "        return \"Error! Division by zero.\"\n",
        "    else:\n",
        "        return x / y\n",
        "\n",
        "# Main function to simulate the calculator\n",
        "def calculator():\n",
        "    while True:  # Loop to keep the calculator running until the user chooses to exit\n",
        "        print(\"\\nSelect operation:\")\n",
        "        print(\"1. Add\")\n",
        "        print(\"2. Subtract\")\n",
        "        print(\"3. Multiply\")\n",
        "        print(\"4. Divide\")\n",
        "        print(\"5. Exit\")  # Exit option\n",
        "\n",
        "        # Take user input for operation\n",
        "        choice = input(\"Enter choice (1/2/3/4/5): \")\n",
        "\n",
        "        if choice == '5':  # Exit the program\n",
        "            print(\"Exiting the program. Goodbye!\")\n",
        "            break\n",
        "\n",
        "        # Take user input for numbers\n",
        "        num1 = float(input(\"Enter first number: \"))\n",
        "        num2 = float(input(\"Enter second number: \"))\n",
        "\n",
        "        # Dictionary simulating switch-case\n",
        "        operations = {\n",
        "            '1': add,\n",
        "            '2': subtract,\n",
        "            '3': multiply,\n",
        "            '4': divide\n",
        "        }\n",
        "\n",
        "        # Execute the chosen operation\n",
        "        if choice in operations:\n",
        "            result = operations[choice](num1, num2)\n",
        "            print(f\"The result is: {result}\")\n",
        "        else:\n",
        "            print(\"Invalid input! Please select a valid operation.\")\n",
        "\n",
        "# Call the calculator function\n",
        "calculator()\n"
      ],
      "metadata": {
        "id": "pQIku_QT4fqv"
      },
      "execution_count": null,
      "outputs": []
    }
  ]
}